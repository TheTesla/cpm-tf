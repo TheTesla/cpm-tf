{
 "cells": [
  {
   "cell_type": "markdown",
   "metadata": {},
   "source": [
    "#### Run this on EC2 instance\n",
    "\n",
    "I am using tensorflow version 0.5.0 on my local Ubuntu machine. Need to upgrate it sometime soon."
   ]
  },
  {
   "cell_type": "code",
   "execution_count": 1,
   "metadata": {
    "collapsed": true
   },
   "outputs": [],
   "source": [
    "from __future__ import absolute_import\n",
    "from __future__ import division\n",
    "from __future__ import print_function\n",
    "\n",
    "import argparse\n",
    "import gzip\n",
    "import os\n",
    "import sys\n",
    "import time\n",
    "\n",
    "import numpy as np\n",
    "import pandas as pd\n",
    "from sklearn.utils import shuffle\n",
    "from sklearn.metrics import mean_squared_error\n",
    "from six.moves import xrange  # pylint: disable=redefined-builtin\n",
    "import tensorflow as tf"
   ]
  },
  {
   "cell_type": "code",
   "execution_count": 2,
   "metadata": {
    "collapsed": true
   },
   "outputs": [],
   "source": [
    "image_height = 480\n",
    "image_width = 720\n",
    "\n",
    "def load_data(test=False):\n",
    "    fname = 'test.csv' if test else 'FLIC_dataset.csv'\n",
    "    df = pd.read_csv(fname, nrows = 300)\n",
    "    del df['Unnamed: 0']\n",
    "    cols = df.columns[:-1]\n",
    "    y = df[cols]\n",
    "    \n",
    "    df['Image'] = df['Image'].apply(lambda im: np.fromstring(im, sep=' ') / 255.0)\n",
    "    df = df.dropna()\n",
    "    X = np.vstack(df['Image'])\n",
    "    X = X.reshape(-1, image_height, image_width, 1)\n",
    "    \n",
    "    if not test:\n",
    "        y1 = y.ix[:,0:9] / 720.0\n",
    "        y2 = y.ix[:,9:] / 480.0\n",
    "        y = pd.concat([y1, y2], axis = 1)\n",
    "        X, y = shuffle(X, y)\n",
    "\n",
    "    else:\n",
    "        y = None\n",
    "    return X, y"
   ]
  },
  {
   "cell_type": "code",
   "execution_count": 3,
   "metadata": {
    "collapsed": false
   },
   "outputs": [
    {
     "name": "stdout",
     "output_type": "stream",
     "text": [
      "(300, 480, 720, 1)\n"
     ]
    }
   ],
   "source": [
    "x,y = load_data()\n",
    "print (x.shape)"
   ]
  },
  {
   "cell_type": "code",
   "execution_count": 4,
   "metadata": {
    "collapsed": true
   },
   "outputs": [],
   "source": [
    "# To evaluate how good a prediction is\n",
    "def eval_error(pred, ground_truth):\n",
    "    return np.sqrt(mean_squared_error(pred, ground_truth))"
   ]
  },
  {
   "cell_type": "code",
   "execution_count": 5,
   "metadata": {
    "collapsed": false
   },
   "outputs": [
    {
     "name": "stdout",
     "output_type": "stream",
     "text": [
      "x_train has shape of:\n",
      "(240, 480, 720, 1)\n"
     ]
    }
   ],
   "source": [
    "from sklearn.cross_validation import train_test_split\n",
    "x_train, x_valid, y_train,y_valid = train_test_split(x, y, test_size = 0.2, random_state=0)\n",
    "print (\"x_train has shape of:\")\n",
    "print (x_train.shape)"
   ]
  },
  {
   "cell_type": "code",
   "execution_count": 28,
   "metadata": {
    "collapsed": false
   },
   "outputs": [
    {
     "name": "stdout",
     "output_type": "stream",
     "text": [
      "conv7_stage1 shape:\n",
      "TensorShape([Dimension(32), Dimension(4), Dimension(6), Dimension(2048)])\n",
      "conv4_stage2 shape\n",
      "TensorShape([Dimension(32), Dimension(120), Dimension(180), Dimension(64)])\n"
     ]
    },
    {
     "ename": "ValueError",
     "evalue": "Items must be from the same graph.",
     "output_type": "error",
     "traceback": [
      "\u001b[1;31m---------------------------------------------------------------------------\u001b[0m",
      "\u001b[1;31mValueError\u001b[0m                                Traceback (most recent call last)",
      "\u001b[1;32m<ipython-input-28-5e9848134abe>\u001b[0m in \u001b[0;36m<module>\u001b[1;34m()\u001b[0m\n\u001b[0;32m    127\u001b[0m         \u001b[1;32mreturn\u001b[0m \u001b[0mtf\u001b[0m\u001b[1;33m.\u001b[0m\u001b[0mconcat\u001b[0m\u001b[1;33m(\u001b[0m\u001b[1;36m0\u001b[0m\u001b[1;33m,\u001b[0m \u001b[1;33m[\u001b[0m\u001b[0mconv7_stage1\u001b[0m\u001b[1;33m,\u001b[0m \u001b[0mconv4_stage2\u001b[0m\u001b[1;33m]\u001b[0m\u001b[1;33m)\u001b[0m\u001b[1;33m\u001b[0m\u001b[0m\n\u001b[0;32m    128\u001b[0m \u001b[1;33m\u001b[0m\u001b[0m\n\u001b[1;32m--> 129\u001b[1;33m     \u001b[0mxxx\u001b[0m \u001b[1;33m=\u001b[0m \u001b[0mconcatenated_stages\u001b[0m\u001b[1;33m(\u001b[0m\u001b[1;33m)\u001b[0m\u001b[1;33m\u001b[0m\u001b[0m\n\u001b[0m\u001b[0;32m    130\u001b[0m \u001b[1;33m\u001b[0m\u001b[0m\n\u001b[0;32m    131\u001b[0m \u001b[1;33m\u001b[0m\u001b[0m\n",
      "\u001b[1;32m<ipython-input-28-5e9848134abe>\u001b[0m in \u001b[0;36mconcatenated_stages\u001b[1;34m()\u001b[0m\n\u001b[0;32m    125\u001b[0m         \u001b[1;32mprint\u001b[0m \u001b[1;33m(\u001b[0m\u001b[0mconv4_stage2\u001b[0m\u001b[1;33m.\u001b[0m\u001b[0mget_shape\u001b[0m\u001b[1;33m(\u001b[0m\u001b[1;33m)\u001b[0m\u001b[1;33m)\u001b[0m\u001b[1;33m\u001b[0m\u001b[0m\n\u001b[0;32m    126\u001b[0m \u001b[1;33m\u001b[0m\u001b[0m\n\u001b[1;32m--> 127\u001b[1;33m         \u001b[1;32mreturn\u001b[0m \u001b[0mtf\u001b[0m\u001b[1;33m.\u001b[0m\u001b[0mconcat\u001b[0m\u001b[1;33m(\u001b[0m\u001b[1;36m0\u001b[0m\u001b[1;33m,\u001b[0m \u001b[1;33m[\u001b[0m\u001b[0mconv7_stage1\u001b[0m\u001b[1;33m,\u001b[0m \u001b[0mconv4_stage2\u001b[0m\u001b[1;33m]\u001b[0m\u001b[1;33m)\u001b[0m\u001b[1;33m\u001b[0m\u001b[0m\n\u001b[0m\u001b[0;32m    128\u001b[0m \u001b[1;33m\u001b[0m\u001b[0m\n\u001b[0;32m    129\u001b[0m     \u001b[0mxxx\u001b[0m \u001b[1;33m=\u001b[0m \u001b[0mconcatenated_stages\u001b[0m\u001b[1;33m(\u001b[0m\u001b[1;33m)\u001b[0m\u001b[1;33m\u001b[0m\u001b[0m\n",
      "\u001b[1;32m/home/shi/Documents/Anaconda/lib/python2.7/site-packages/tensorflow/python/ops/array_ops.pyc\u001b[0m in \u001b[0;36mconcat\u001b[1;34m(concat_dim, values, name)\u001b[0m\n\u001b[0;32m    288\u001b[0m   return gen_array_ops._concat(concat_dim=concat_dim,\n\u001b[0;32m    289\u001b[0m                                \u001b[0mvalues\u001b[0m\u001b[1;33m=\u001b[0m\u001b[0mvalues\u001b[0m\u001b[1;33m,\u001b[0m\u001b[1;33m\u001b[0m\u001b[0m\n\u001b[1;32m--> 290\u001b[1;33m                                name=name)\n\u001b[0m\u001b[0;32m    291\u001b[0m \u001b[1;33m\u001b[0m\u001b[0m\n\u001b[0;32m    292\u001b[0m \u001b[1;33m\u001b[0m\u001b[0m\n",
      "\u001b[1;32m/home/shi/Documents/Anaconda/lib/python2.7/site-packages/tensorflow/python/ops/gen_array_ops.pyc\u001b[0m in \u001b[0;36m_concat\u001b[1;34m(concat_dim, values, name)\u001b[0m\n\u001b[0;32m     68\u001b[0m   \"\"\"\n\u001b[0;32m     69\u001b[0m   return _op_def_lib.apply_op(\"Concat\", concat_dim=concat_dim, values=values,\n\u001b[1;32m---> 70\u001b[1;33m                               name=name)\n\u001b[0m\u001b[0;32m     71\u001b[0m \u001b[1;33m\u001b[0m\u001b[0m\n\u001b[0;32m     72\u001b[0m \u001b[1;33m\u001b[0m\u001b[0m\n",
      "\u001b[1;32m/home/shi/Documents/Anaconda/lib/python2.7/site-packages/tensorflow/python/ops/op_def_library.pyc\u001b[0m in \u001b[0;36mapply_op\u001b[1;34m(self, op_type_name, g, name, **keywords)\u001b[0m\n\u001b[0;32m    295\u001b[0m       \u001b[1;31m# Need to flatten all the arguments into a list.\u001b[0m\u001b[1;33m\u001b[0m\u001b[1;33m\u001b[0m\u001b[0m\n\u001b[0;32m    296\u001b[0m       \u001b[1;31m# pylint: disable=protected-access\u001b[0m\u001b[1;33m\u001b[0m\u001b[1;33m\u001b[0m\u001b[0m\n\u001b[1;32m--> 297\u001b[1;33m       \u001b[0mg\u001b[0m \u001b[1;33m=\u001b[0m \u001b[0mops\u001b[0m\u001b[1;33m.\u001b[0m\u001b[0m_get_graph_from_inputs\u001b[0m\u001b[1;33m(\u001b[0m\u001b[0m_Flatten\u001b[0m\u001b[1;33m(\u001b[0m\u001b[0mkeywords\u001b[0m\u001b[1;33m.\u001b[0m\u001b[0mvalues\u001b[0m\u001b[1;33m(\u001b[0m\u001b[1;33m)\u001b[0m\u001b[1;33m)\u001b[0m\u001b[1;33m,\u001b[0m \u001b[0mgraph\u001b[0m\u001b[1;33m=\u001b[0m\u001b[0mg\u001b[0m\u001b[1;33m)\u001b[0m\u001b[1;33m\u001b[0m\u001b[0m\n\u001b[0m\u001b[0;32m    298\u001b[0m       \u001b[1;31m# pyline: enable=protected-access\u001b[0m\u001b[1;33m\u001b[0m\u001b[1;33m\u001b[0m\u001b[0m\n\u001b[0;32m    299\u001b[0m     \u001b[1;32mexcept\u001b[0m \u001b[0mAssertionError\u001b[0m \u001b[1;32mas\u001b[0m \u001b[0me\u001b[0m\u001b[1;33m:\u001b[0m\u001b[1;33m\u001b[0m\u001b[0m\n",
      "\u001b[1;32m/home/shi/Documents/Anaconda/lib/python2.7/site-packages/tensorflow/python/framework/ops.pyc\u001b[0m in \u001b[0;36m_get_graph_from_inputs\u001b[1;34m(op_input_list, graph)\u001b[0m\n\u001b[0;32m   2877\u001b[0m         \u001b[0moriginal_input\u001b[0m \u001b[1;33m=\u001b[0m \u001b[0mop_input\u001b[0m\u001b[1;33m\u001b[0m\u001b[0m\n\u001b[0;32m   2878\u001b[0m       \u001b[1;32melse\u001b[0m\u001b[1;33m:\u001b[0m\u001b[1;33m\u001b[0m\u001b[0m\n\u001b[1;32m-> 2879\u001b[1;33m         \u001b[0massert_same_graph\u001b[0m\u001b[1;33m(\u001b[0m\u001b[1;33m[\u001b[0m\u001b[0moriginal_input\u001b[0m\u001b[1;33m,\u001b[0m \u001b[0mop_input\u001b[0m\u001b[1;33m]\u001b[0m\u001b[1;33m)\u001b[0m\u001b[1;33m\u001b[0m\u001b[0m\n\u001b[0m\u001b[0;32m   2880\u001b[0m   \u001b[1;32mif\u001b[0m \u001b[0moriginal_input\u001b[0m \u001b[1;32mis\u001b[0m \u001b[1;32mnot\u001b[0m \u001b[0mNone\u001b[0m\u001b[1;33m:\u001b[0m\u001b[1;33m\u001b[0m\u001b[0m\n\u001b[0;32m   2881\u001b[0m     \u001b[1;32mreturn\u001b[0m \u001b[0moriginal_input\u001b[0m\u001b[1;33m.\u001b[0m\u001b[0mgraph\u001b[0m\u001b[1;33m\u001b[0m\u001b[0m\n",
      "\u001b[1;32m/home/shi/Documents/Anaconda/lib/python2.7/site-packages/tensorflow/python/framework/ops.pyc\u001b[0m in \u001b[0;36massert_same_graph\u001b[1;34m(items, expected_graph)\u001b[0m\n\u001b[0;32m    696\u001b[0m       \u001b[0mexpected_graph\u001b[0m \u001b[1;33m=\u001b[0m \u001b[0mitem\u001b[0m\u001b[1;33m.\u001b[0m\u001b[0mgraph\u001b[0m\u001b[1;33m\u001b[0m\u001b[0m\n\u001b[0;32m    697\u001b[0m     \u001b[1;32melif\u001b[0m \u001b[0mexpected_graph\u001b[0m \u001b[1;33m!=\u001b[0m \u001b[0mitem\u001b[0m\u001b[1;33m.\u001b[0m\u001b[0mgraph\u001b[0m\u001b[1;33m:\u001b[0m\u001b[1;33m\u001b[0m\u001b[0m\n\u001b[1;32m--> 698\u001b[1;33m       \u001b[1;32mraise\u001b[0m \u001b[0mValueError\u001b[0m\u001b[1;33m(\u001b[0m\u001b[1;34m\"Items must be from the same graph.\"\u001b[0m\u001b[1;33m)\u001b[0m\u001b[1;33m\u001b[0m\u001b[0m\n\u001b[0m\u001b[0;32m    699\u001b[0m   \u001b[1;32mreturn\u001b[0m \u001b[0mitems\u001b[0m\u001b[1;33m\u001b[0m\u001b[0m\n\u001b[0;32m    700\u001b[0m \u001b[1;33m\u001b[0m\u001b[0m\n",
      "\u001b[1;31mValueError\u001b[0m: Items must be from the same graph."
     ]
    }
   ],
   "source": [
    "## -------------------------------------------------------------------------\n",
    "## Here is the start of the TF graph\n",
    "## -------------------------------------------------------------------------\n",
    "batch_size = 32\n",
    "image_height = 480\n",
    "image_width = 720\n",
    "num_channels = 1\n",
    "num_labels = 18\n",
    "\n",
    "deep_graph = tf.Graph()\n",
    "\n",
    "with deep_graph.as_default():\n",
    "    \n",
    "    def conv2d(x, W, b, strides = 1):\n",
    "        # tf.conv2d wrapper, with bias and relu activation\n",
    "        x = tf.nn.conv2d(x, W, strides = [1, strides, strides, 1], padding='SAME')\n",
    "        x = tf.nn.bias_add(x, b)\n",
    "        return tf.nn.relu(x)\n",
    "    \n",
    "    def maxpool2d(x, k=2):\n",
    "        # tf.max_pool wrapper\n",
    "        return tf.nn.max_pool(x, ksize=[1, k, k, 1], strides=[1, k, k, 1], padding='SAME')\n",
    "\n",
    "    def model_stage_1(x, weights, biases):\n",
    "        conv1 = conv2d(x, weights['wc1'], biases['bc1'])\n",
    "        pool1 = maxpool2d(conv1, k=2)\n",
    "        \n",
    "        conv2 = conv2d(pool1, weights['wc2'], biases['bc2'])\n",
    "        pool2 = maxpool2d(conv2, k=2)\n",
    "        \n",
    "        conv3 = conv2d(pool2, weights['wc3'], biases['bc3'])\n",
    "        pool3 = maxpool2d(conv3, k=2)\n",
    "        \n",
    "        conv4 = conv2d(pool3, weights['wc4'], biases['bc4'])\n",
    "        pool4 = maxpool2d(conv4, k=2)\n",
    "        \n",
    "        conv5 = conv2d(pool4, weights['wc5'], biases['bc5'])\n",
    "        pool5 = maxpool2d(conv5, k=2)\n",
    "        \n",
    "        conv6 = conv2d(pool5, weights['wc6'], biases['bc6'])\n",
    "        pool6 = maxpool2d(conv6, k=2)\n",
    "        \n",
    "        conv7 = conv2d(pool6, weights['wc7'], biases['bc7'])\n",
    "        pool7 = maxpool2d(conv7, k=2)\n",
    "        \n",
    "        return tf.nn.relu(pool7)\n",
    "        \n",
    "    weights_stage_1 ={\n",
    "        'wc1': tf.Variable(tf.truncated_normal([5, 5, 1, 32])),\n",
    "        'wc2': tf.Variable(tf.truncated_normal([5, 5, 32, 64])),\n",
    "        'wc3': tf.Variable(tf.truncated_normal([5, 5, 64, 128])),\n",
    "        'wc4': tf.Variable(tf.truncated_normal([5, 5, 128, 256])),\n",
    "        'wc5': tf.Variable(tf.truncated_normal([5, 5, 256, 512])),\n",
    "        'wc6': tf.Variable(tf.truncated_normal([5, 5, 512, 1024])),\n",
    "        'wc7': tf.Variable(tf.truncated_normal([5, 5, 1024, 2048]))\n",
    "    }\n",
    "    \n",
    "    biases_stage_1 = {\n",
    "        'bc1': tf.Variable(tf.zeros([32])),\n",
    "        'bc2': tf.Variable(tf.zeros([64])),\n",
    "        'bc3': tf.Variable(tf.zeros([128])),\n",
    "        'bc4': tf.Variable(tf.zeros([256])),\n",
    "        'bc5': tf.Variable(tf.zeros([512])),\n",
    "        'bc6': tf.Variable(tf.zeros([1024])),\n",
    "        'bc7': tf.Variable(tf.zeros([2048]))\n",
    "    }\n",
    "    \n",
    "    def model_stage_2(x, weights, biases):\n",
    "        conv1 = conv2d(x, weights['wc1'], biases['bc1'])\n",
    "        pool1 = maxpool2d(conv1, k=2)\n",
    "        \n",
    "        conv2 = conv2d(pool1, weights['wc2'], biases['bc2'])\n",
    "        pool2 = maxpool2d(conv2, k=2)\n",
    "        \n",
    "        conv3 = conv2d(pool2, weights['wc3'], biases['bc3'])\n",
    "        pool3 = maxpool2d(conv3, k=2)\n",
    "        \n",
    "        conv4 = conv2d(pool3, weights['wc4'], biases['bc4'])\n",
    "        pool4 = maxpool2d(conv4, k=2)\n",
    "        \n",
    "        return tf.nn.relu(pool7)\n",
    "        \n",
    "    weights_stage_2 ={\n",
    "        'wc1': tf.Variable(tf.truncated_normal([5, 5, 1, 32])),\n",
    "        'wc2': tf.Variable(tf.truncated_normal([5, 5, 32, 64])),\n",
    "        'wc3': tf.Variable(tf.truncated_normal([5, 5, 64, 128])),\n",
    "        'wc4': tf.Variable(tf.truncated_normal([5, 5, 128, 256]))\n",
    "    }\n",
    "    \n",
    "    biases_stage_2 = {\n",
    "        'bc1': tf.Variable(tf.zeros([32])),\n",
    "        'bc2': tf.Variable(tf.zeros([64])),\n",
    "        'bc3': tf.Variable(tf.zeros([128])),\n",
    "        'bc4': tf.Variable(tf.zeros([256]))\n",
    "    }\n",
    "    \n",
    "    tf_train_dataset = tf.placeholder(\n",
    "        tf.float32, \n",
    "        shape = (batch_size, image_height, image_width, num_channels))\n",
    "\n",
    "    tf_train_labels = tf.placeholder(tf.float32, shape = (batch_size, num_labels))\n",
    "\n",
    "\n",
    "    conv7_stage1 = model_stage_1(tf_train_dataset, weights_stage_1, biases_stage_1)\n",
    "    print (\"conv7_stage1 shape:\")\n",
    "    print (conv7_stage1.get_shape())\n",
    "    \n",
    "    conv4_stage2 = model_stage_2(tf_train_dataset, weights_stage_2, biases_stage_2)\n",
    "    print (\"conv4_stage2 shape\")\n",
    "    print (conv4_stage2.get_shape())\n",
    "    \n",
    "    pool_center_lower = tf.nn.avg_pool(tf_train_dataset, ksize=[1, 9, 9, 1], \n",
    "                                       strides=[1, 9, 9, 1], padding='SAME')\n",
    "    print (\"pool_center_lower shape: \")\n",
    "    print (pool_center_lower.get_shape())\n",
    "    \n",
    "#     concat_stage2 = tf.concat(0, [conv7_stage1, conv4_stage2])\n",
    "    \n",
    "#     pool_shape = pool2.get_shape().as_list()\n",
    "        \n",
    "#     reshape = tf.reshape(pool2, [pool_shape[0], pool_shape[1] * pool_shape[2] * pool_shape[3]])\n",
    "# #         reshape = tf.Print(reshape, [reshape], \"reshape: \", summarize=10)\n",
    "#     print (reshape.get_shape())\n",
    "#         # Fully connecte layers\n",
    "#     hidden_layer1 = tf.nn.relu(tf.matmul(reshape, fc1_weights) + fc1_biases)\n",
    "#         # For training data, add 0.5 dropout. \n",
    "    #    return hidden_layer1\n",
    "        \n",
    "#         if train:\n",
    "#             hidden_layer1 = tf.nn.dropout(hidden_layer1, 0.5, seed = 0)\n",
    "\n",
    "#         hidden_layer2 = tf.nn.relu(tf.matmul(hidden_layer1, fc2_weights) + fc2_biases)\n",
    "\n",
    "#         if train:\n",
    "#             hidden_layer2 = tf.nn.dropout(hidden_layer2, 0.5, seed = 0)\n",
    "\n",
    "#         return tf.matmul(hidden_layer2, fc3_weights) + fc3_biases\n",
    "\n",
    "    # Call the model() function to make train_prediction\n",
    "#     train_prediction = model_stage_1(tf_train_dataset, weights, biases)\n",
    "#     valid_prediction = model(tf_valid_dataset)\n",
    "    # calculate loss by using train_prediction\n",
    "#     loss = tf.reduce_mean(tf.reduce_sum(tf.square(train_prediction - tf_train_labels), 1))\n",
    "#     # Add L2 regularization to loss\n",
    "#     loss += 1e-7 * (tf.nn.l2_loss(fc1_weights) + tf.nn.l2_loss(fc1_biases) +\n",
    "#             tf.nn.l2_loss(fc2_weights) + tf.nn.l2_loss(fc2_biases) + \n",
    "#             tf.nn.l2_loss(fc3_weights) + tf.nn.l2_loss(fc3_biases)) \n",
    "\n",
    "#     # Optimizer\n",
    "#     global_step = tf.Variable(0, name = 'global_step',trainable = False)\n",
    "#     starter_learning_rate = 0.001\n",
    "#     learning_rate = tf.train.exponential_decay(starter_learning_rate,\n",
    "#                                                 global_step,\n",
    "#                                                 100000,\n",
    "#                                                 0.96,\n",
    "#                                                 staircase = True)\n",
    "\n",
    "#     optimizer = tf.train.AdamOptimizer(learning_rate, 0.95).minimize(loss, global_step = global_step)       "
   ]
  },
  {
   "cell_type": "code",
   "execution_count": null,
   "metadata": {
    "collapsed": false
   },
   "outputs": [
    {
     "name": "stdout",
     "output_type": "stream",
     "text": [
      "Start running TF graph ... \n",
      "TF graph variables initialized ... \n",
      "(16, 18)\n",
      "Minibatch loss at step 0: 49575.187500\n",
      "Validation RMSE: 0.56540\n",
      "(16, 18)\n"
     ]
    }
   ],
   "source": [
    "## ------------------------------------------------------------------------\n",
    "## Now we can use the TF graph\n",
    "## ------------------------------------------------------------------------\n",
    "print (\"Start running TF graph ... \")\n",
    "num_steps = 201\n",
    "\n",
    "train_acc_records = np.zeros(num_steps)\n",
    "valid_acc_records = np.zeros(num_steps)\n",
    "loss_records = np.zeros(num_steps)\n",
    "\n",
    "start_time = time.time()\n",
    "\n",
    "with tf.Session(graph=deep_graph) as sess:\n",
    "    #tf.initialize_all_variables().run()\n",
    "    tf.global_variables_initializer().run()\n",
    "    print (\"TF graph variables initialized ... \")\n",
    " \n",
    "    for step in range(num_steps):\n",
    "        offset = (step * batch_size) % (y_train.shape[0] - batch_size)\n",
    "\n",
    "        batch_data = x_train[offset:(offset + batch_size),:]\n",
    "        batch_labels = y_train[offset:(offset + batch_size)]\n",
    "        print (batch_labels.shape)\n",
    "        \n",
    "        feed_dict = {tf_train_dataset: batch_data,\n",
    "                     tf_train_labels: batch_labels}\n",
    "\n",
    "        _,l, pred = sess.run([optimizer, loss, train_prediction], feed_dict = feed_dict)\n",
    "\n",
    "        train_acc_records[step] = eval_error(pred, batch_labels)\n",
    "        valid_acc_records[step] = eval_error(valid_prediction.eval(), y_valid)\n",
    "\n",
    "        if (step % 20) == 0:\n",
    "            print (\"Minibatch loss at step %d: %f\" % (step, l))\n",
    "            print (\"Minibatch RMSE: %0.5f\" % train_acc_records[step])\n",
    "            print (\"Validation RMSE: %0.5f\" % valid_acc_records[step])\n",
    "            \n",
    "    time_elasped = time.time() - start_time\n",
    "    print (\"==================================\")\n",
    "    print (\"Net finished training!\")\n",
    "    print (\"Run time is approx. %s minutes\" % str(int(time_elapsed/60)))"
   ]
  }
 ],
 "metadata": {
  "kernelspec": {
   "display_name": "Python 2",
   "language": "python",
   "name": "python2"
  },
  "language_info": {
   "codemirror_mode": {
    "name": "ipython",
    "version": 2
   },
   "file_extension": ".py",
   "mimetype": "text/x-python",
   "name": "python",
   "nbconvert_exporter": "python",
   "pygments_lexer": "ipython2",
   "version": "2.7.12"
  }
 },
 "nbformat": 4,
 "nbformat_minor": 0
}

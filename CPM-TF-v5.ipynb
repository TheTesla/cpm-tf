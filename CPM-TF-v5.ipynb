{
 "cells": [
  {
   "cell_type": "markdown",
   "metadata": {},
   "source": [
    "#### 2 conv layers and 3 hidden layers "
   ]
  },
  {
   "cell_type": "code",
   "execution_count": 1,
   "metadata": {
    "collapsed": true
   },
   "outputs": [],
   "source": [
    "from __future__ import absolute_import\n",
    "from __future__ import division\n",
    "from __future__ import print_function\n",
    "\n",
    "import argparse\n",
    "import gzip\n",
    "import os\n",
    "import sys\n",
    "import time\n",
    "\n",
    "import numpy as np\n",
    "import pandas as pd\n",
    "from sklearn.utils import shuffle\n",
    "from sklearn.metrics import mean_squared_error\n",
    "from six.moves import xrange  # pylint: disable=redefined-builtin\n",
    "import tensorflow as tf"
   ]
  },
  {
   "cell_type": "code",
   "execution_count": 2,
   "metadata": {
    "collapsed": true
   },
   "outputs": [],
   "source": [
    "image_height = 480\n",
    "image_width = 720\n",
    "\n",
    "def load_data(test=False):\n",
    "    fname = 'test.csv' if test else 'FLIC_dataset.csv'\n",
    "    df = pd.read_csv(fname, nrows = 300)\n",
    "    del df['Unnamed: 0']\n",
    "    cols = df.columns[:-1]\n",
    "    y = df[cols]\n",
    "    \n",
    "    df['Image'] = df['Image'].apply(lambda im: np.fromstring(im, sep=' ') / 255.0)\n",
    "    df = df.dropna()\n",
    "    X = np.vstack(df['Image'])\n",
    "    X = X.reshape(-1, image_height, image_width, 1)\n",
    "    \n",
    "    if not test:\n",
    "        y1 = y.ix[:,0:9] / 720.0\n",
    "        y2 = y.ix[:,9:] / 480.0\n",
    "        y = pd.concat([y1, y2], axis = 1)\n",
    "        X, y = shuffle(X, y)\n",
    "\n",
    "    else:\n",
    "        y = None\n",
    "    return X, y"
   ]
  },
  {
   "cell_type": "code",
   "execution_count": 3,
   "metadata": {
    "collapsed": false
   },
   "outputs": [
    {
     "name": "stdout",
     "output_type": "stream",
     "text": [
      "(300, 480, 720, 1)\n"
     ]
    }
   ],
   "source": [
    "x,y = load_data()\n",
    "print (x.shape)"
   ]
  },
  {
   "cell_type": "code",
   "execution_count": 4,
   "metadata": {
    "collapsed": true
   },
   "outputs": [],
   "source": [
    "# To evaluate how good a prediction is\n",
    "def eval_error(pred, ground_truth):\n",
    "    return np.sqrt(mean_squared_error(pred, ground_truth))"
   ]
  },
  {
   "cell_type": "code",
   "execution_count": 5,
   "metadata": {
    "collapsed": false
   },
   "outputs": [
    {
     "name": "stdout",
     "output_type": "stream",
     "text": [
      "x_train has shape of:\n",
      "(240, 480, 720, 1)\n"
     ]
    }
   ],
   "source": [
    "from sklearn.cross_validation import train_test_split\n",
    "x_train, x_valid, y_train,y_valid = train_test_split(x, y, test_size = 0.2, random_state=0)\n",
    "print (\"x_train has shape of:\")\n",
    "print (x_train.shape)"
   ]
  },
  {
   "cell_type": "code",
   "execution_count": 7,
   "metadata": {
    "collapsed": false
   },
   "outputs": [
    {
     "name": "stdout",
     "output_type": "stream",
     "text": [
      "TensorShape([Dimension(16), Dimension(5529600)])\n",
      "TensorShape([Dimension(60), Dimension(5529600)])\n"
     ]
    }
   ],
   "source": [
    "## -------------------------------------------------------------------------\n",
    "## Here is the start of the TF graph\n",
    "## -------------------------------------------------------------------------\n",
    "batch_size = 16\n",
    "image_height = 480\n",
    "image_width = 720\n",
    "num_channels = 1\n",
    "num_labels = 18\n",
    "\n",
    "deep_graph = tf.Graph()\n",
    "with deep_graph.as_default():\n",
    "\n",
    "    tf_valid_dataset = tf.constant(x_valid, dtype = tf.float32)\n",
    "    \n",
    "    tf_train_dataset = tf.placeholder(\n",
    "        tf.float32, \n",
    "        shape = (batch_size, image_height, image_width, num_channels))\n",
    "\n",
    "    tf_train_labels = tf.placeholder(tf.float32, shape = (batch_size, num_labels))\n",
    "\n",
    "    conv1_weight = tf.Variable(\n",
    "        tf.truncated_normal([5, 5, num_channels, 32], \n",
    "                            stddev = 0.1, seed = 0))\n",
    "\n",
    "    conv1_biases = tf.Variable(tf.zeros([32]))\n",
    "\n",
    "    conv2_weights = tf.Variable(\n",
    "            tf.truncated_normal([5, 5, 32, 64], \n",
    "                                stddev = 0.1, seed = 0, dtype = tf.float32))\n",
    "\n",
    "    conv2_biases = tf.Variable(tf.constant(0.1, shape = [64]))\n",
    "\n",
    "    fc1_weights = tf.Variable(\n",
    "        tf.truncated_normal([image_height * image_width * 16 , num_labels], \n",
    "                            stddev = 0.1, seed = 0, dtype = tf.float32))\n",
    "\n",
    "    fc1_biases = tf.Variable(tf.constant(0.1, shape = [num_labels]))\n",
    "\n",
    "#     fc2_weights = tf.Variable(\n",
    "#         tf.truncated_normal([512, 512], \n",
    "#                             stddev = 0.1, seed = 0, dtype = tf.float32))\n",
    "\n",
    "#     fc2_biases = tf.Variable(tf.constant(0.1, shape = [512]))\n",
    "\n",
    "#     fc3_weights = tf.Variable(\n",
    "#         tf.truncated_normal([512, num_labels], stddev = 0.1, seed = 0, dtype = tf.float32))\n",
    "\n",
    "#     fc3_biases = tf.Variable(tf.constant(0.1, shape = [num_labels]))\n",
    "\n",
    "    def model(data, train = False):\n",
    "        conv1 = tf.nn.conv2d(data, conv1_weight, strides = [1,1,1,1], padding = 'SAME')\n",
    "\n",
    "        relu1 = tf.nn.relu(tf.nn.bias_add(conv1, conv1_biases))\n",
    "\n",
    "        pool1 = tf.nn.max_pool(relu1, ksize = [1, 2, 2, 1], \n",
    "                                strides = [1, 2, 2, 1], padding = 'SAME')\n",
    "\n",
    "        conv2 = tf.nn.conv2d(pool1, conv2_weights, strides = [1, 1, 1, 1], padding = 'SAME')\n",
    "\n",
    "        relu2 = tf.nn.relu(tf.nn.bias_add(conv2, conv2_biases))\n",
    "\n",
    "        pool2 = tf.nn.max_pool(relu2, ksize = [1, 2, 2, 1],\n",
    "                                strides = [1, 1, 1, 1], padding = 'SAME')\n",
    "\n",
    "        # Reshape the feature map cuboid into a 2D matrix to feed it to the\n",
    "        # fully connected layers.\n",
    "        pool_shape = pool2.get_shape().as_list()\n",
    "        reshape = tf.reshape(pool2, [pool_shape[0], pool_shape[1] * pool_shape[2] * pool_shape[3]])\n",
    "#         reshape = tf.Print(reshape, [reshape], \"reshape: \", summarize=10)\n",
    "        print (reshape.get_shape())\n",
    "        # Fully connecte layers\n",
    "        hidden_layer1 = tf.nn.relu(tf.matmul(reshape, fc1_weights) + fc1_biases)\n",
    "        # For training data, add 0.5 dropout. \n",
    "        return hidden_layer1\n",
    "        \n",
    "#         if train:\n",
    "#             hidden_layer1 = tf.nn.dropout(hidden_layer1, 0.5, seed = 0)\n",
    "\n",
    "#         hidden_layer2 = tf.nn.relu(tf.matmul(hidden_layer1, fc2_weights) + fc2_biases)\n",
    "\n",
    "#         if train:\n",
    "#             hidden_layer2 = tf.nn.dropout(hidden_layer2, 0.5, seed = 0)\n",
    "\n",
    "#         return tf.matmul(hidden_layer2, fc3_weights) + fc3_biases\n",
    "\n",
    "    # Call the model() function to make train_prediction\n",
    "    train_prediction = model(tf_train_dataset, True)\n",
    "    valid_prediction = model(tf_valid_dataset)\n",
    "    # calculate loss by using train_prediction\n",
    "    loss = tf.reduce_mean(tf.reduce_sum(tf.square(train_prediction - tf_train_labels), 1))\n",
    "    # Add L2 regularization to loss\n",
    "#     loss += 1e-7 * (tf.nn.l2_loss(fc1_weights) + tf.nn.l2_loss(fc1_biases) +\n",
    "#             tf.nn.l2_loss(fc2_weights) + tf.nn.l2_loss(fc2_biases) + \n",
    "#             tf.nn.l2_loss(fc3_weights) + tf.nn.l2_loss(fc3_biases)) \n",
    "\n",
    "    # Optimizer\n",
    "    global_step = tf.Variable(0, name = 'global_step',trainable = False)\n",
    "    starter_learning_rate = 0.001\n",
    "    learning_rate = tf.train.exponential_decay(starter_learning_rate,\n",
    "                                                global_step,\n",
    "                                                100000,\n",
    "                                                0.96,\n",
    "                                                staircase = True)\n",
    "\n",
    "    optimizer = tf.train.AdamOptimizer(learning_rate, 0.95).minimize(loss, global_step = global_step)       "
   ]
  },
  {
   "cell_type": "code",
   "execution_count": null,
   "metadata": {
    "collapsed": false
   },
   "outputs": [
    {
     "name": "stdout",
     "output_type": "stream",
     "text": [
      "Start running TF graph ... \n",
      "TF graph variables initialized ... \n",
      "(16, 18)\n",
      "Minibatch loss at step 0: 49575.187500\n",
      "Validation RMSE: 0.56540\n",
      "(16, 18)\n"
     ]
    }
   ],
   "source": [
    "## ------------------------------------------------------------------------\n",
    "## Now we can use the TF graph\n",
    "## ------------------------------------------------------------------------\n",
    "print (\"Start running TF graph ... \")\n",
    "num_steps = 101\n",
    "\n",
    "train_acc_records = np.zeros(num_steps)\n",
    "valid_acc_records = np.zeros(num_steps)\n",
    "# test_acc_records = np.zeros(num_steps)\n",
    "loss_records = np.zeros(num_steps)\n",
    "\n",
    "start_time = time.time()\n",
    "\n",
    "with tf.Session(graph=deep_graph) as sess:\n",
    "    tf.initialize_all_variables().run()\n",
    "    #tf.global_variables_initializer().run()\n",
    "    print (\"TF graph variables initialized ... \")\n",
    " \n",
    "    for step in range(num_steps):\n",
    "        offset = (step * batch_size) % (y_train.shape[0] - batch_size)\n",
    "\n",
    "        batch_data = x_train[offset:(offset + batch_size),:]\n",
    "        batch_labels = y_train[offset:(offset + batch_size)]\n",
    "        print (batch_labels.shape)\n",
    "        \n",
    "        feed_dict = {tf_train_dataset: batch_data,\n",
    "                     tf_train_labels: batch_labels}\n",
    "\n",
    "        _,l, pred = sess.run([optimizer, loss, train_prediction], feed_dict = feed_dict)\n",
    "\n",
    "        train_acc_records[step] = eval_error(pred, batch_labels)\n",
    "        valid_acc_records[step] = eval_error(valid_prediction.eval(), y_valid)\n",
    "#         test_acc_records[step] = eval_error(test_prediction.eval(), y_test)\n",
    "\n",
    "        if (step % 2) == 0:\n",
    "            print (\"Minibatch loss at step %d: %f\" % (step, l))\n",
    "#             print (\"Minibatch RMSE: %0.5f\" % train_acc_records[step])\n",
    "            print (\"Validation RMSE: %0.5f\" % valid_acc_records[step])\n",
    "#             print (\"Test RMSE: %0.5f\" % test_acc_records[step])\n",
    "    time_elasped = time.time() - start_time\n",
    "    print (\"==================================\")\n",
    "    print (\"Net finished training!\")"
   ]
  },
  {
   "cell_type": "code",
   "execution_count": 10,
   "metadata": {
    "collapsed": false
   },
   "outputs": [
    {
     "data": {
      "text/plain": [
       "[<matplotlib.lines.Line2D at 0x7f8edc067750>]"
      ]
     },
     "execution_count": 10,
     "metadata": {},
     "output_type": "execute_result"
    },
    {
     "data": {
      "image/png": "[encoded data removed]",
      "text/plain": [
       "<matplotlib.figure.Figure at 0x7f8edc148c50>"
      ]
     },
     "metadata": {},
     "output_type": "display_data"
    }
   ],
   "source": [
    "import matplotlib.pyplot as plt\n",
    "%matplotlib inline\n",
    "plt.(train_acc_records)"
   ]
  }
 ],
 "metadata": {
  "kernelspec": {
   "display_name": "Python 2",
   "language": "python",
   "name": "python2"
  },
  "language_info": {
   "codemirror_mode": {
    "name": "ipython",
    "version": 2
   },
   "file_extension": ".py",
   "mimetype": "text/x-python",
   "name": "python",
   "nbconvert_exporter": "python",
   "pygments_lexer": "ipython2",
   "version": "2.7.12"
  }
 },
 "nbformat": 4,
 "nbformat_minor": 0
}

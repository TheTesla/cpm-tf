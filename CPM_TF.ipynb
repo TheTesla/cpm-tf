{
 "cells": [
  {
   "cell_type": "code",
   "execution_count": 47,
   "metadata": {
    "collapsed": true
   },
   "outputs": [],
   "source": [
    "from __future__ import absolute_import\n",
    "from __future__ import division\n",
    "from __future__ import print_function\n",
    "\n",
    "import argparse\n",
    "import gzip\n",
    "import os\n",
    "import sys\n",
    "import time\n",
    "\n",
    "import numpy as np\n",
    "import pandas as pd\n",
    "from sklearn.utils import shuffle\n",
    "from sklearn.metrics import mean_squared_error\n",
    "from six.moves import xrange  # pylint: disable=redefined-builtin\n",
    "import tensorflow as tf"
   ]
  },
  {
   "cell_type": "code",
   "execution_count": 68,
   "metadata": {
    "collapsed": true
   },
   "outputs": [],
   "source": [
    "dt = pd.read_csv('FLIC_dataset.csv', nrows = 300)\n",
    "del dt['Unnamed: 0']"
   ]
  },
  {
   "cell_type": "code",
   "execution_count": 69,
   "metadata": {
    "collapsed": true
   },
   "outputs": [],
   "source": [
    "# To evaluate how good a prediction is\n",
    "def eval_error(pred, ground_truth):\n",
    "    return np.sqrt(mean_squared_error(pred, ground_truth))"
   ]
  },
  {
   "cell_type": "code",
   "execution_count": 72,
   "metadata": {
    "collapsed": false
   },
   "outputs": [],
   "source": [
    "y_x = y.ix[:,0:9] / 720"
   ]
  },
  {
   "cell_type": "code",
   "execution_count": 76,
   "metadata": {
    "collapsed": true
   },
   "outputs": [],
   "source": [
    "y_y = y.ix[:,9:] / 480"
   ]
  },
  {
   "cell_type": "code",
   "execution_count": 77,
   "metadata": {
    "collapsed": false
   },
   "outputs": [],
   "source": [
    "y = pd.concat([y_x,y_y], axis = 1)"
   ]
  },
  {
   "cell_type": "code",
   "execution_count": 78,
   "metadata": {
    "collapsed": true
   },
   "outputs": [],
   "source": [
    "x = dt['Image'].apply(lambda img:np.fromstring(img, sep=' '))"
   ]
  },
  {
   "cell_type": "code",
   "execution_count": 79,
   "metadata": {
    "collapsed": true
   },
   "outputs": [],
   "source": [
    "x2 = np.matrix(x.tolist())"
   ]
  },
  {
   "cell_type": "code",
   "execution_count": 80,
   "metadata": {
    "collapsed": false
   },
   "outputs": [
    {
     "data": {
      "text/plain": [
       "(300, 345600)"
      ]
     },
     "execution_count": 80,
     "metadata": {},
     "output_type": "execute_result"
    }
   ],
   "source": [
    "x2.shape"
   ]
  },
  {
   "cell_type": "code",
   "execution_count": 81,
   "metadata": {
    "collapsed": true
   },
   "outputs": [],
   "source": [
    "from sklearn.cross_validation import train_test_split\n",
    "x_train, x_valid, y_train,y_valid = train_test_split(x2, y, test_size = 0.2, random_state=0)"
   ]
  },
  {
   "cell_type": "code",
   "execution_count": null,
   "metadata": {
    "collapsed": true
   },
   "outputs": [],
   "source": [
    "# Split dt into train and valid\n",
    "feature_names = dt.columns[0:-1]\n",
    "y = dt[feature_names]\n",
    "y = y.as_matrix()\n",
    "x = dt['Image'].apply(lambda img:np.fromstring(img, sep=' '))\n",
    "x = x.as_matrix()\n",
    "from sklearn.cross_validation import train_test_split\n",
    "x_train, x_valid, y_train,y_valid = train_test_split(x, y, test_size = 0.2, random_state=0)"
   ]
  },
  {
   "cell_type": "code",
   "execution_count": 7,
   "metadata": {
    "collapsed": false
   },
   "outputs": [],
   "source": [
    "### -------------------------------------------------------------------\n",
    "### Start TF graph\n",
    "\n",
    "image_height = 480\n",
    "image_width = 720\n",
    "batch_size = 32\n",
    "num_labels = 18 # We are predicting 18 coordinates values - 9 points\n",
    "num_channels = 4 # 4 channels in convolution\n",
    "\n",
    "deep_grap = tf.Graph()\n",
    "with deep_grap.as_default():\n",
    "    tf_train_x = tf.placeholder(tf.float32, shape=(batch_size, image_height, image_width, num_channels))\n",
    "    tf_train_y = tf.placeholder(tf.float32, shape=(batch_size, num_labels))\n",
    "    tf_valid_x = tf.constant(x_valid)\n",
    "    \n",
    "    conv1_weight = tf.Variable(\n",
    "                            tf.truncated_normal([5,5, num_channels, 32], \n",
    "                                                stddev=0.1, seed=0, dtype=tf.float32))\n",
    "    conv1_biases = tf.Variable(tf.zeros([32]))\n",
    "    \n",
    "    conv2_weights = tf.Variable(\n",
    "        tf.truncated_normal([5, 5, 32, 64], \n",
    "                            stddev = 0.1, seed = 0, dtype = tf.float32))\n",
    "    \n",
    "    conv2_biases = tf.Variable(tf.constant(0.1, shape = [64]))\n",
    "    \n",
    "    fc1_weights = tf.Variable(\n",
    "        tf.truncated_normal([image_height * image_width * 16 , 512], \n",
    "                            stddev = 0.1, seed = 0, dtype = tf.float32))\n",
    "\n",
    "    fc1_biases = tf.Variable(tf.constant(0.1, shape = [512]))\n",
    "\n",
    "    fc2_weights = tf.Variable(\n",
    "        tf.truncated_normal([512, 512], \n",
    "                            stddev = 0.1, seed = 0, dtype = tf.float32))\n",
    "\n",
    "    fc2_biases = tf.Variable(tf.constant(0.1, shape = [512]))\n",
    "\n",
    "    fc3_weights = tf.Variable(\n",
    "        tf.truncated_normal([512, num_labels], stddev = 0.1, seed = 0, dtype = tf.float32))\n",
    "\n",
    "    fc3_biases = tf.Variable(tf.constant(0.1, shape = [num_labels]))\n",
    "    def model_part1(data, train = False):\n",
    "        \n",
    "        conv1 = tf.nn.conv2d(data, conv1_weight, strides = [1,1,1,1], padding = 'SAME')\n",
    "\n",
    "        relu1 = tf.nn.relu(tf.nn.bias_add(conv1, conv1_biases))\n",
    "\n",
    "        pool1 = tf.nn.max_pool(relu1, ksize = [1, 2, 2, 1], \n",
    "                                strides = [1, 2, 2, 1], padding = 'SAME')\n",
    "\n",
    "        conv2 = tf.nn.conv2d(pool1, conv2_weights, strides = [1, 1, 1, 1], padding = 'SAME')\n",
    "\n",
    "        relu2 = tf.nn.relu(tf.nn.bias_add(conv2, conv2_biases))\n",
    "\n",
    "        pool2 = tf.nn.max_pool(relu2, ksize = [1, 2, 2, 1],\n",
    "                                strides = [1, 1, 1, 1], padding = 'SAME')\n",
    "\n",
    "        # Reshape the feature map cuboid into a 2D matrix to feed it to the\n",
    "        # fully connected layers.\n",
    "        pool_shape = pool2.get_shape().as_list()\n",
    "        reshape = tf.reshape(pool2, [pool_shape[0], pool_shape[1] * pool_shape[2] * pool_shape[3]])\n",
    "        #reshape = tf.Print(reshape, [reshape], \"reshape: \", summarize=10)\n",
    "        # Fully connecte layers\n",
    "        hidden_layer1 = tf.nn.relu(tf.matmul(reshape, fc1_weights) + fc1_biases)\n",
    "        # For training data, add 0.5 dropout. \n",
    "        if train:\n",
    "            hidden_layer1 = tf.nn.dropout(hidden_layer1, 0.5, seed = 0)\n",
    "\n",
    "        hidden_layer2 = tf.nn. relu(tf.matmul(hidden_layer1, fc2_weights) + fc2_biases)\n",
    "\n",
    "        if train:\n",
    "            hidden_layer2 = tf.nn.dropout(hidden_layer2, 0.5, seed = 0)\n",
    "\n",
    "        return tf.matmul(hidden_layer2, fc3_weights) + fc3_biases\n",
    "\n",
    "    train_prediction = model_part1(tf_train_x, True)\n",
    "    \n",
    "    loss = tf.reduce_mean(tf.reduce_sum(tf.square(train_prediction - tf_train_y), 1))\n",
    "    # Add L2 regularization to loss\n",
    "    loss += 1e-7 * (tf.nn.l2_loss(fc1_weights) + tf.nn.l2_loss(fc1_biases) +\n",
    "            tf.nn.l2_loss(fc2_weights) + tf.nn.l2_loss(fc2_biases) + \n",
    "            tf.nn.l2_loss(fc3_weights) + tf.nn.l2_loss(fc3_biases)) \n",
    "\n",
    "    # Optimizer\n",
    "    global_step = tf.Variable(0, name = 'global_step',trainable = False)\n",
    "    starter_learning_rate = 0.001\n",
    "    learning_rate = tf.train.exponential_decay(starter_learning_rate,\n",
    "                                                global_step,\n",
    "                                                100000,\n",
    "                                                0.96,\n",
    "                                                staircase = True)\n",
    "\n",
    "    optimizer = tf.train.AdamOptimizer(learning_rate, 0.95).minimize(loss, global_step = global_step)\n",
    "\n",
    "    \n",
    "    "
   ]
  },
  {
   "cell_type": "code",
   "execution_count": null,
   "metadata": {
    "collapsed": false
   },
   "outputs": [],
   "source": [
    "num_steps =11\n",
    "\n",
    "with tf.Session(graph=deep_grap) as sess:\n",
    "    tf.initialize_all_variables().run()\n",
    "    print (\"TF graph variables initialized ... \")\n",
    "    \n",
    "    for step in range(num_steps):\n",
    "        offset = (step * batch_size) % (y_train.shape[0] - batch_size)\n",
    "\n",
    "        batch_data = x_train[offset:(offset + batch_size),:]\n",
    "        batch_labels = y_train[offset:(offset + batch_size)]\n",
    "\n",
    "        feed_dict = {tf_train_dataset: batch_data,\n",
    "                     tf_train_labels: batch_labels}\n",
    "\n",
    "        _,l, pred = sess.run([optimizer, loss, train_prediction], feed_dict = feed_dict)\n",
    "        \n",
    "        print (\"Loss %d: %f\" % (step, l))"
   ]
  },
  {
   "cell_type": "code",
   "execution_count": null,
   "metadata": {
    "collapsed": true
   },
   "outputs": [],
   "source": []
  }
 ],
 "metadata": {
  "kernelspec": {
   "display_name": "Python 2",
   "language": "python",
   "name": "python2"
  },
  "language_info": {
   "codemirror_mode": {
    "name": "ipython",
    "version": 2
   },
   "file_extension": ".py",
   "mimetype": "text/x-python",
   "name": "python",
   "nbconvert_exporter": "python",
   "pygments_lexer": "ipython2",
   "version": "2.7.12"
  }
 },
 "nbformat": 4,
 "nbformat_minor": 0
}
